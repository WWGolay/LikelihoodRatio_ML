{
 "cells": [
  {
   "cell_type": "markdown",
   "metadata": {},
   "source": [
    "# Tensor Flow"
   ]
  },
  {
   "cell_type": "code",
   "execution_count": 1,
   "metadata": {},
   "outputs": [],
   "source": [
    "import tensorflow as tf\n",
    "from tensorflow.keras import layers,models\n",
    "import pickle\n",
    "import numpy as np\n",
    "import matplotlib.pyplot as plt"
   ]
  },
  {
   "cell_type": "markdown",
   "metadata": {},
   "source": [
    "## Model"
   ]
  },
  {
   "cell_type": "code",
   "execution_count": 151,
   "metadata": {},
   "outputs": [
    {
     "name": "stdout",
     "output_type": "stream",
     "text": [
      "Model: \"sequential_17\"\n",
      "_________________________________________________________________\n",
      " Layer (type)                Output Shape              Param #   \n",
      "=================================================================\n",
      " conv2d_102 (Conv2D)         (None, 252, 252, 32)      2432      \n",
      "                                                                 \n",
      " max_pooling2d_85 (MaxPoolin  (None, 126, 126, 32)     0         \n",
      " g2D)                                                            \n",
      "                                                                 \n",
      " conv2d_103 (Conv2D)         (None, 124, 124, 32)      9248      \n",
      "                                                                 \n",
      " max_pooling2d_86 (MaxPoolin  (None, 62, 62, 32)       0         \n",
      " g2D)                                                            \n",
      "                                                                 \n",
      " conv2d_104 (Conv2D)         (None, 60, 60, 32)        9248      \n",
      "                                                                 \n",
      " max_pooling2d_87 (MaxPoolin  (None, 30, 30, 32)       0         \n",
      " g2D)                                                            \n",
      "                                                                 \n",
      " conv2d_105 (Conv2D)         (None, 28, 28, 32)        9248      \n",
      "                                                                 \n",
      " max_pooling2d_88 (MaxPoolin  (None, 14, 14, 32)       0         \n",
      " g2D)                                                            \n",
      "                                                                 \n",
      " conv2d_106 (Conv2D)         (None, 12, 12, 32)        9248      \n",
      "                                                                 \n",
      " max_pooling2d_89 (MaxPoolin  (None, 6, 6, 32)         0         \n",
      " g2D)                                                            \n",
      "                                                                 \n",
      " conv2d_107 (Conv2D)         (None, 4, 4, 32)          9248      \n",
      "                                                                 \n",
      " flatten_17 (Flatten)        (None, 512)               0         \n",
      "                                                                 \n",
      " dense_51 (Dense)            (None, 64)                32832     \n",
      "                                                                 \n",
      " dropout_34 (Dropout)        (None, 64)                0         \n",
      "                                                                 \n",
      " dense_52 (Dense)            (None, 16)                1040      \n",
      "                                                                 \n",
      " dropout_35 (Dropout)        (None, 16)                0         \n",
      "                                                                 \n",
      " dense_53 (Dense)            (None, 4)                 68        \n",
      "                                                                 \n",
      "=================================================================\n",
      "Total params: 82,612\n",
      "Trainable params: 82,612\n",
      "Non-trainable params: 0\n",
      "_________________________________________________________________\n"
     ]
    }
   ],
   "source": [
    "model = models.Sequential()\n",
    "model.add(layers.Conv2D(32, (5,5), activation='relu', input_shape=(256,256,3)))\n",
    "model.add(layers.MaxPooling2D((2,2)))\n",
    "model.add(layers.Conv2D(32, (3,3), activation='relu'))\n",
    "model.add(layers.MaxPooling2D((2,2)))\n",
    "model.add(layers.Conv2D(32, (3,3), activation='relu'))\n",
    "model.add(layers.MaxPooling2D((2,2)))\n",
    "model.add(layers.Conv2D(32, (3,3), activation='relu'))\n",
    "model.add(layers.MaxPooling2D((2,2)))\n",
    "model.add(layers.Conv2D(32, (3,3), activation='relu'))\n",
    "model.add(layers.MaxPooling2D((2,2)))\n",
    "model.add(layers.Conv2D(32, (3,3), activation='relu'))\n",
    "model.add(layers.Flatten())\n",
    "model.add(layers.Dense(64, activation='relu'))\n",
    "model.add(layers.Dropout(0.3))\n",
    "model.add(layers.Dense(16, activation='relu'))\n",
    "model.add(layers.Dropout(0.3))\n",
    "model.add(layers.Dense(4))\n",
    "model.summary()"
   ]
  },
  {
   "cell_type": "markdown",
   "metadata": {},
   "source": []
  },
  {
   "cell_type": "code",
   "execution_count": 152,
   "metadata": {},
   "outputs": [],
   "source": [
    "model.compile(optimizer=tf.keras.optimizers.Adam(learning_rate=0.0002),\n",
    "              loss=tf.keras.losses.MeanSquaredError(),)"
   ]
  },
  {
   "cell_type": "markdown",
   "metadata": {},
   "source": [
    "## Import data"
   ]
  },
  {
   "cell_type": "code",
   "execution_count": 133,
   "metadata": {},
   "outputs": [],
   "source": [
    "with open('labeled_data/sources_0.obj', 'rb') as f:\n",
    "    sources = pickle.load(f)"
   ]
  },
  {
   "cell_type": "markdown",
   "metadata": {},
   "source": [
    "First time I tried 80 as the training size, that seemed to work well, but I haven't been able to replicate that early success..."
   ]
  },
  {
   "cell_type": "code",
   "execution_count": 134,
   "metadata": {},
   "outputs": [],
   "source": [
    "trainingSize = 60\n",
    "testSize = len(sources)-1 - trainingSize"
   ]
  },
  {
   "cell_type": "code",
   "execution_count": 135,
   "metadata": {},
   "outputs": [],
   "source": [
    "train_images = np.empty((trainingSize, 256, 256, 3), dtype=np.float32)\n",
    "train_labels = np.empty((trainingSize, 4), dtype=np.float32)\n",
    "test_images = np.empty((testSize, 256, 256, 3), dtype=np.float32)\n",
    "test_labels = np.empty((testSize, 4), dtype=np.float32)"
   ]
  },
  {
   "cell_type": "markdown",
   "metadata": {},
   "source": [
    "For some reason number 99 doesn't work, so I had to only take up to index 98..."
   ]
  },
  {
   "cell_type": "code",
   "execution_count": 136,
   "metadata": {},
   "outputs": [],
   "source": [
    "randomIndices = np.random.choice(len(sources)-1, len(sources)-1,replace=False)"
   ]
  },
  {
   "cell_type": "code",
   "execution_count": 14,
   "metadata": {},
   "outputs": [],
   "source": [
    "mySource = sources[randomIndices[0]]"
   ]
  },
  {
   "cell_type": "code",
   "execution_count": 15,
   "metadata": {},
   "outputs": [],
   "source": [
    "(x0,x1) = (mySource.images[0].x0, mySource.images[0].x1)"
   ]
  },
  {
   "cell_type": "code",
   "execution_count": 17,
   "metadata": {},
   "outputs": [
    {
     "data": {
      "text/plain": [
       "array([  7., 256.], dtype=float32)"
      ]
     },
     "execution_count": 17,
     "metadata": {},
     "output_type": "execute_result"
    }
   ],
   "source": [
    "np.array([x0,x1],dtype=np.float32)"
   ]
  },
  {
   "cell_type": "code",
   "execution_count": 137,
   "metadata": {},
   "outputs": [],
   "source": [
    "for i in range(trainingSize):\n",
    "    source = sources[randomIndices[i]]\n",
    "    images = np.dstack((source.images[0].data, source.images[1].data, source.images[2].data))\n",
    "    (x0,x1) = (source.images[0].x0, source.images[0].x1)\n",
    "    (y0,y1) = (source.images[0].y0, source.images[0].y1)\n",
    "    labels = np.array([x0,x1,y0,y1])\n",
    "    train_images[i] = images\n",
    "    train_labels[i] = labels\n",
    "for i in range(testSize):\n",
    "    source = sources[randomIndices[i+trainingSize]]\n",
    "    images = np.dstack((source.images[0].data, source.images[1].data, source.images[2].data))\n",
    "    (x0,x1) = (source.images[0].x0, source.images[0].x1)\n",
    "    (y0,y1) = (source.images[0].y0, source.images[0].y1)\n",
    "    labels = np.array([x0,x1,y0,y1])\n",
    "    test_images[i] = images\n",
    "    test_labels[i] = labels"
   ]
  },
  {
   "cell_type": "markdown",
   "metadata": {},
   "source": [
    "### Data exploration"
   ]
  },
  {
   "cell_type": "code",
   "execution_count": 171,
   "metadata": {},
   "outputs": [
    {
     "data": {
      "text/plain": [
       "array([8.1609694e-05, 7.3702974e+00, 6.2177377e+00, ..., 5.6308330e-05,\n",
       "       7.1440387e+00, 7.7501213e+01], dtype=float32)"
      ]
     },
     "execution_count": 171,
     "metadata": {},
     "output_type": "execute_result"
    }
   ],
   "source": [
    "train_images.flatten()"
   ]
  },
  {
   "cell_type": "markdown",
   "metadata": {},
   "source": [
    "Need to get max values from each image set to scale values accordingly."
   ]
  },
  {
   "cell_type": "code",
   "execution_count": 174,
   "metadata": {},
   "outputs": [
    {
     "name": "stdout",
     "output_type": "stream",
     "text": [
      "[169218.72 169257.69 169447.42 169381.14 169626.42 169652.56 169870.31\n",
      " 169844.42 169960.44 169769.61]\n"
     ]
    }
   ],
   "source": [
    "ind = np.argpartition(train_images.flatten(), -10)[-10:]\n",
    "print(train_images.flatten()[ind])"
   ]
  },
  {
   "cell_type": "code",
   "execution_count": null,
   "metadata": {},
   "outputs": [],
   "source": []
  },
  {
   "cell_type": "code",
   "execution_count": 138,
   "metadata": {},
   "outputs": [
    {
     "name": "stdout",
     "output_type": "stream",
     "text": [
      "Train:  (60, 256, 256, 3)\n",
      "Train Labels:  (60, 4)\n",
      "Test:  (39, 256, 256, 3)\n",
      "Test Labels:  (39, 4)\n"
     ]
    }
   ],
   "source": [
    "print(\"Train: \", train_images.shape)\n",
    "print(\"Train Labels: \", train_labels.shape)\n",
    "print(\"Test: \", test_images.shape)\n",
    "print(\"Test Labels: \", test_labels.shape)"
   ]
  },
  {
   "cell_type": "markdown",
   "metadata": {},
   "source": [
    "## Model Fitting/Training"
   ]
  },
  {
   "cell_type": "markdown",
   "metadata": {},
   "source": [
    "Below is the normal fitting method. Then I try including a validation dataset. I am concerned that perhaps we simply don't have enough data."
   ]
  },
  {
   "cell_type": "code",
   "execution_count": 123,
   "metadata": {},
   "outputs": [
    {
     "name": "stdout",
     "output_type": "stream",
     "text": [
      "Epoch 1/50\n",
      "7/7 [==============================] - 0s 16ms/step - loss: 18183.0625\n",
      "Epoch 2/50\n",
      "7/7 [==============================] - 0s 20ms/step - loss: 17778.7500\n",
      "Epoch 3/50\n",
      "7/7 [==============================] - 0s 15ms/step - loss: 18841.8867\n",
      "Epoch 4/50\n",
      "7/7 [==============================] - 0s 16ms/step - loss: 17614.4473\n",
      "Epoch 5/50\n",
      "7/7 [==============================] - 0s 18ms/step - loss: 17955.5039\n",
      "Epoch 6/50\n",
      "7/7 [==============================] - 0s 16ms/step - loss: 17418.7715\n",
      "Epoch 7/50\n",
      "7/7 [==============================] - 0s 16ms/step - loss: 17429.6094\n",
      "Epoch 8/50\n",
      "7/7 [==============================] - 0s 16ms/step - loss: 17061.6367\n",
      "Epoch 9/50\n",
      "7/7 [==============================] - 0s 15ms/step - loss: 14606.7686\n",
      "Epoch 10/50\n",
      "7/7 [==============================] - 0s 15ms/step - loss: 15539.7090\n",
      "Epoch 11/50\n",
      "7/7 [==============================] - 0s 16ms/step - loss: 16176.9141\n",
      "Epoch 12/50\n",
      "7/7 [==============================] - 0s 15ms/step - loss: 16512.3496\n",
      "Epoch 13/50\n",
      "7/7 [==============================] - 0s 15ms/step - loss: 14953.4033\n",
      "Epoch 14/50\n",
      "7/7 [==============================] - 0s 16ms/step - loss: 17507.6855\n",
      "Epoch 15/50\n",
      "7/7 [==============================] - 0s 16ms/step - loss: 16186.2080\n",
      "Epoch 16/50\n",
      "7/7 [==============================] - 0s 15ms/step - loss: 13890.8574\n",
      "Epoch 17/50\n",
      "7/7 [==============================] - 0s 15ms/step - loss: 15456.4863\n",
      "Epoch 18/50\n",
      "7/7 [==============================] - 0s 15ms/step - loss: 14293.4893\n",
      "Epoch 19/50\n",
      "7/7 [==============================] - 0s 15ms/step - loss: 15239.0908\n",
      "Epoch 20/50\n",
      "7/7 [==============================] - 0s 15ms/step - loss: 12917.8301\n",
      "Epoch 21/50\n",
      "7/7 [==============================] - 0s 15ms/step - loss: 15184.5859\n",
      "Epoch 22/50\n",
      "7/7 [==============================] - 0s 15ms/step - loss: 14813.1924\n",
      "Epoch 23/50\n",
      "7/7 [==============================] - 0s 15ms/step - loss: 15421.5312\n",
      "Epoch 24/50\n",
      "7/7 [==============================] - 0s 15ms/step - loss: 14009.8027\n",
      "Epoch 25/50\n",
      "7/7 [==============================] - 0s 16ms/step - loss: 13222.8809\n",
      "Epoch 26/50\n",
      "7/7 [==============================] - 0s 15ms/step - loss: 13495.1699\n",
      "Epoch 27/50\n",
      "7/7 [==============================] - 0s 15ms/step - loss: 13465.5547\n",
      "Epoch 28/50\n",
      "7/7 [==============================] - 0s 15ms/step - loss: 13484.0967\n",
      "Epoch 29/50\n",
      "7/7 [==============================] - 0s 15ms/step - loss: 12864.9648\n",
      "Epoch 30/50\n",
      "7/7 [==============================] - 0s 15ms/step - loss: 12696.3984\n",
      "Epoch 31/50\n",
      "7/7 [==============================] - 0s 15ms/step - loss: 13722.6934\n",
      "Epoch 32/50\n",
      "7/7 [==============================] - 0s 15ms/step - loss: 13116.4922\n",
      "Epoch 33/50\n",
      "7/7 [==============================] - 0s 15ms/step - loss: 14015.4326\n",
      "Epoch 34/50\n",
      "7/7 [==============================] - 0s 16ms/step - loss: 14590.5332\n",
      "Epoch 35/50\n",
      "7/7 [==============================] - 0s 15ms/step - loss: 12730.3428\n",
      "Epoch 36/50\n",
      "7/7 [==============================] - 0s 16ms/step - loss: 12462.8066\n",
      "Epoch 37/50\n",
      "7/7 [==============================] - 0s 15ms/step - loss: 12069.5508\n",
      "Epoch 38/50\n",
      "7/7 [==============================] - 0s 15ms/step - loss: 12496.8848\n",
      "Epoch 39/50\n",
      "7/7 [==============================] - 0s 15ms/step - loss: 12389.0771\n",
      "Epoch 40/50\n",
      "7/7 [==============================] - 0s 15ms/step - loss: 14010.0654\n",
      "Epoch 41/50\n",
      "7/7 [==============================] - 0s 15ms/step - loss: 13140.4561\n",
      "Epoch 42/50\n",
      "7/7 [==============================] - 0s 15ms/step - loss: 13200.4668\n",
      "Epoch 43/50\n",
      "7/7 [==============================] - 0s 16ms/step - loss: 13579.6641\n",
      "Epoch 44/50\n",
      "7/7 [==============================] - 0s 15ms/step - loss: 11774.0918\n",
      "Epoch 45/50\n",
      "7/7 [==============================] - 0s 15ms/step - loss: 11813.0215\n",
      "Epoch 46/50\n",
      "7/7 [==============================] - 0s 15ms/step - loss: 13515.1670\n",
      "Epoch 47/50\n",
      "7/7 [==============================] - 0s 16ms/step - loss: 12456.4941\n",
      "Epoch 48/50\n",
      "7/7 [==============================] - 0s 14ms/step - loss: 11831.4902\n",
      "Epoch 49/50\n",
      "7/7 [==============================] - 0s 14ms/step - loss: 10513.2988\n",
      "Epoch 50/50\n",
      "7/7 [==============================] - 0s 15ms/step - loss: 11882.5967\n"
     ]
    }
   ],
   "source": [
    "history = model.fit(train_images, train_labels, epochs=50, batch_size=12)"
   ]
  },
  {
   "cell_type": "markdown",
   "metadata": {},
   "source": [
    "Not entirely sure if it's fine to have the validation data in here below"
   ]
  },
  {
   "cell_type": "code",
   "execution_count": 158,
   "metadata": {},
   "outputs": [
    {
     "name": "stdout",
     "output_type": "stream",
     "text": [
      "Epoch 1/50\n",
      "5/5 [==============================] - 0s 16ms/step - loss: 11034.2354\n",
      "Epoch 2/50\n",
      "5/5 [==============================] - 0s 17ms/step - loss: 10499.5732\n",
      "Epoch 3/50\n",
      "5/5 [==============================] - 0s 16ms/step - loss: 11519.2930\n",
      "Epoch 4/50\n",
      "5/5 [==============================] - 0s 16ms/step - loss: 12345.5938\n",
      "Epoch 5/50\n",
      "5/5 [==============================] - 0s 16ms/step - loss: 11346.5771\n",
      "Epoch 6/50\n",
      "5/5 [==============================] - 0s 16ms/step - loss: 10771.8975\n",
      "Epoch 7/50\n",
      "5/5 [==============================] - 0s 15ms/step - loss: 12833.9414\n",
      "Epoch 8/50\n",
      "5/5 [==============================] - 0s 15ms/step - loss: 11087.0225\n",
      "Epoch 9/50\n",
      "5/5 [==============================] - 0s 16ms/step - loss: 11277.6865\n",
      "Epoch 10/50\n",
      "5/5 [==============================] - 0s 16ms/step - loss: 11410.8662\n",
      "Epoch 11/50\n",
      "5/5 [==============================] - 0s 16ms/step - loss: 11267.6611\n",
      "Epoch 12/50\n",
      "5/5 [==============================] - 0s 16ms/step - loss: 10350.3301\n",
      "Epoch 13/50\n",
      "5/5 [==============================] - 0s 17ms/step - loss: 10473.1152\n",
      "Epoch 14/50\n",
      "5/5 [==============================] - 0s 16ms/step - loss: 9987.0107\n",
      "Epoch 15/50\n",
      "5/5 [==============================] - 0s 17ms/step - loss: 10466.1680\n",
      "Epoch 16/50\n",
      "5/5 [==============================] - 0s 16ms/step - loss: 11598.4619\n",
      "Epoch 17/50\n",
      "5/5 [==============================] - 0s 16ms/step - loss: 10561.5479\n",
      "Epoch 18/50\n",
      "5/5 [==============================] - 0s 15ms/step - loss: 10124.3145\n",
      "Epoch 19/50\n",
      "5/5 [==============================] - 0s 16ms/step - loss: 11488.5205\n",
      "Epoch 20/50\n",
      "5/5 [==============================] - 0s 16ms/step - loss: 10393.0000\n",
      "Epoch 21/50\n",
      "5/5 [==============================] - 0s 16ms/step - loss: 10318.5664\n",
      "Epoch 22/50\n",
      "5/5 [==============================] - 0s 15ms/step - loss: 9650.5791\n",
      "Epoch 23/50\n",
      "5/5 [==============================] - 0s 16ms/step - loss: 9201.1807\n",
      "Epoch 24/50\n",
      "5/5 [==============================] - 0s 16ms/step - loss: 10691.7705\n",
      "Epoch 25/50\n",
      "5/5 [==============================] - 0s 16ms/step - loss: 9376.8164\n",
      "Epoch 26/50\n",
      "5/5 [==============================] - 0s 16ms/step - loss: 10193.9883\n",
      "Epoch 27/50\n",
      "5/5 [==============================] - 0s 15ms/step - loss: 10449.5459\n",
      "Epoch 28/50\n",
      "5/5 [==============================] - 0s 17ms/step - loss: 10383.4541\n",
      "Epoch 29/50\n",
      "5/5 [==============================] - 0s 16ms/step - loss: 11021.2402\n",
      "Epoch 30/50\n",
      "5/5 [==============================] - 0s 16ms/step - loss: 9997.0537\n",
      "Epoch 31/50\n",
      "5/5 [==============================] - 0s 16ms/step - loss: 10635.8740\n",
      "Epoch 32/50\n",
      "5/5 [==============================] - 0s 15ms/step - loss: 10345.4863\n",
      "Epoch 33/50\n",
      "5/5 [==============================] - 0s 16ms/step - loss: 8993.1191\n",
      "Epoch 34/50\n",
      "5/5 [==============================] - 0s 16ms/step - loss: 8333.7002\n",
      "Epoch 35/50\n",
      "5/5 [==============================] - 0s 16ms/step - loss: 8308.4678\n",
      "Epoch 36/50\n",
      "5/5 [==============================] - 0s 16ms/step - loss: 10512.3994\n",
      "Epoch 37/50\n",
      "5/5 [==============================] - 0s 16ms/step - loss: 8549.5645\n",
      "Epoch 38/50\n",
      "5/5 [==============================] - 0s 17ms/step - loss: 8159.7358\n",
      "Epoch 39/50\n",
      "5/5 [==============================] - 0s 17ms/step - loss: 8969.2715\n",
      "Epoch 40/50\n",
      "5/5 [==============================] - 0s 15ms/step - loss: 8406.2979\n",
      "Epoch 41/50\n",
      "5/5 [==============================] - 0s 16ms/step - loss: 9875.6621\n",
      "Epoch 42/50\n",
      "5/5 [==============================] - 0s 16ms/step - loss: 9892.0977\n",
      "Epoch 43/50\n",
      "5/5 [==============================] - 0s 16ms/step - loss: 9098.2832\n",
      "Epoch 44/50\n",
      "5/5 [==============================] - 0s 16ms/step - loss: 10371.6904\n",
      "Epoch 45/50\n",
      "5/5 [==============================] - 0s 17ms/step - loss: 9134.3291\n",
      "Epoch 46/50\n",
      "5/5 [==============================] - 0s 16ms/step - loss: 10389.0098\n",
      "Epoch 47/50\n",
      "5/5 [==============================] - 0s 15ms/step - loss: 10407.1631\n",
      "Epoch 48/50\n",
      "5/5 [==============================] - 0s 15ms/step - loss: 10366.9932\n",
      "Epoch 49/50\n",
      "5/5 [==============================] - 0s 15ms/step - loss: 9247.5898\n",
      "Epoch 50/50\n",
      "5/5 [==============================] - 0s 15ms/step - loss: 8955.4541\n"
     ]
    }
   ],
   "source": [
    "history = model.fit(train_images, train_labels, epochs=50, batch_size=12, validation_data=(test_images, test_labels))"
   ]
  },
  {
   "cell_type": "code",
   "execution_count": 157,
   "metadata": {},
   "outputs": [
    {
     "name": "stdout",
     "output_type": "stream",
     "text": [
      "1/1 [==============================] - 0s 14ms/step\n"
     ]
    },
    {
     "data": {
      "text/plain": [
       "array([[ 59.2323  ,  80.742485,  32.232113,  60.9515  ],\n",
       "       [ 71.461754,  99.43736 ,  40.77785 ,  76.64089 ],\n",
       "       [ 89.44123 , 119.99587 ,  47.92052 ,  83.32702 ],\n",
       "       [ 96.7004  , 132.28125 ,  45.192886, 106.40865 ],\n",
       "       [ 85.22353 , 119.006935,  40.688026,  81.78174 ]], dtype=float32)"
      ]
     },
     "execution_count": 157,
     "metadata": {},
     "output_type": "execute_result"
    }
   ],
   "source": [
    "model.predict(test_images[0:5])"
   ]
  },
  {
   "cell_type": "code",
   "execution_count": 147,
   "metadata": {},
   "outputs": [
    {
     "data": {
      "text/plain": [
       "array([[109., 146., 105., 141.],\n",
       "       [109., 142., 114., 144.],\n",
       "       [103., 143., 111., 148.],\n",
       "       [  0., 256.,   0., 256.],\n",
       "       [116., 142., 113., 143.]], dtype=float32)"
      ]
     },
     "execution_count": 147,
     "metadata": {},
     "output_type": "execute_result"
    }
   ],
   "source": [
    "test_labels[0:5]"
   ]
  },
  {
   "cell_type": "code",
   "execution_count": 22,
   "metadata": {},
   "outputs": [
    {
     "data": {
      "text/plain": [
       "dict_keys([])"
      ]
     },
     "execution_count": 22,
     "metadata": {},
     "output_type": "execute_result"
    }
   ],
   "source": [
    "model.history.history"
   ]
  },
  {
   "cell_type": "code",
   "execution_count": 154,
   "metadata": {},
   "outputs": [
    {
     "data": {
      "text/plain": [
       "[<matplotlib.lines.Line2D at 0x26364abdde0>]"
      ]
     },
     "execution_count": 154,
     "metadata": {},
     "output_type": "execute_result"
    },
    {
     "data": {
      "image/png": "[encoded data removed]",
      "text/plain": [
       "<Figure size 432x288 with 1 Axes>"
      ]
     },
     "metadata": {
      "needs_background": "light"
     },
     "output_type": "display_data"
    }
   ],
   "source": [
    "plt.plot(history.history['loss'])\n",
    "plt.plot(history.history['val_loss'])"
   ]
  },
  {
   "cell_type": "code",
   "execution_count": 126,
   "metadata": {},
   "outputs": [
    {
     "name": "stdout",
     "output_type": "stream",
     "text": [
      "1/1 [==============================] - 0s 288ms/step - loss: 34160.9492\n"
     ]
    },
    {
     "data": {
      "text/plain": [
       "34160.94921875"
      ]
     },
     "execution_count": 126,
     "metadata": {},
     "output_type": "execute_result"
    }
   ],
   "source": [
    "model.evaluate(test_images, test_labels)"
   ]
  }
 ],
 "metadata": {
  "kernelspec": {
   "display_name": "Python 3.10.6 ('astro-ml')",
   "language": "python",
   "name": "python3"
  },
  "language_info": {
   "codemirror_mode": {
    "name": "ipython",
    "version": 3
   },
   "file_extension": ".py",
   "mimetype": "text/x-python",
   "name": "python",
   "nbconvert_exporter": "python",
   "pygments_lexer": "ipython3",
   "version": "3.10.6"
  },
  "orig_nbformat": 4,
  "vscode": {
   "interpreter": {
    "hash": "baa37ef9e1f7f6c6a42295501c3a61f665973aab116723637a219f08b439f422"
   }
  }
 },
 "nbformat": 4,
 "nbformat_minor": 2
}
