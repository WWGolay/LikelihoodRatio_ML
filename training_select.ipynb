{
 "cells": [
  {
   "cell_type": "markdown",
   "metadata": {},
   "source": [
    "# Training Data Select"
   ]
  },
  {
   "cell_type": "code",
   "execution_count": 1,
   "metadata": {},
   "outputs": [],
   "source": [
    "import numpy as np\n",
    "import matplotlib.pyplot as plt\n",
    "import pickle\n",
    "import time\n",
    "import warnings\n",
    "from tqdm import notebook\n",
    "\n",
    "from mwv_source import MultiWVSource\n",
    "\n",
    "warnings.filterwarnings('ignore')"
   ]
  },
  {
   "cell_type": "markdown",
   "metadata": {},
   "source": [
    "## Import all interesting sources lists"
   ]
  },
  {
   "cell_type": "code",
   "execution_count": 2,
   "metadata": {},
   "outputs": [
    {
     "name": "stdout",
     "output_type": "stream",
     "text": [
      "0.9 to 1.0: 526\n",
      "0.8 to 0.9: 703\n",
      "0.7 to 0.8: 1225\n",
      "0.6 to 0.7: 2215\n",
      "0.5 to 0.6: 3809\n",
      "0.4 to 0.5: 7272\n",
      "0.3 to 0.4: 14379\n",
      "0.2 to 0.3: 24552\n",
      "0.1 to 0.2: 19501\n",
      "0.0 to 0.1: 2109\n"
     ]
    }
   ],
   "source": [
    "# ra(J2000),dec(J2000),amp(Jy/beam),rms(Jy/beam),FWHMy(arcsec),FWHMx(arcsec),Bpa(degrees),FieldName,png image link,NED Lookup,[[prob Compact, prob Complex]]\n",
    "sourceTable = np.loadtxt('outcatT14.csv', dtype=str, delimiter=',', comments='#')\n",
    "sourceTable = np.append(sourceTable, np.loadtxt('outcatT16.csv', dtype=str, delimiter=',', comments='#'), axis=0)\n",
    "sourceTable = np.append(sourceTable, np.loadtxt('outcatT18.csv', dtype=str, delimiter=',', comments='#'), axis=0)\n",
    "sourceTable = np.append(sourceTable, np.loadtxt('outcatT20.csv', dtype=str, delimiter=',', comments='#'), axis=0)\n",
    "sourceTable = np.append(sourceTable, np.loadtxt('outcatT21.csv', dtype=str, delimiter=',', comments='#'), axis=0)\n",
    "sourceTable = np.append(sourceTable, np.loadtxt('outcatT22.csv', dtype=str, delimiter=',', comments='#')[:,0:11], axis=0)\n",
    "sourceTable = np.append(sourceTable, np.loadtxt('outcatT23.csv', dtype=str, delimiter=',', comments='#')[:,0:11], axis=0)\n",
    "sourceTable = np.append(sourceTable, np.loadtxt('outcatT24.csv', dtype=str, delimiter=',', comments='#')[:,0:11], axis=0)\n",
    "\n",
    "ra = np.array(sourceTable[:,0].astype(float))\n",
    "dec = np.array(sourceTable[:,1].astype(float))\n",
    "complexity = np.array([float(sub.replace('[', '').replace(']', '').split()[1]) for sub in list(sourceTable[:,10])])\n",
    "\n",
    "complexity, ra, dec = map(list, zip(*sorted(zip(complexity, ra, dec), reverse=True)))\n",
    "complexity = np.array(complexity); ra = np.array(ra); dec = np.array(dec)\n",
    "initialized = np.zeros(len(complexity))\n",
    "\n",
    "for i in range(0, 10):\n",
    "    print('%.1f to %.1f: %i' % (1-0.1*(i+1), 1-0.1*i, complexity[(complexity > 1-0.1*(i+1)) & (complexity < 1-0.1*i)].size))"
   ]
  },
  {
   "cell_type": "markdown",
   "metadata": {},
   "source": [
    "## Generate training data quanta"
   ]
  },
  {
   "cell_type": "code",
   "execution_count": 3,
   "metadata": {},
   "outputs": [
    {
     "name": "stdout",
     "output_type": "stream",
     "text": [
      "Generating 10 quanta holding 10 ranges with 10 sources per range for 1000 training sources...\n"
     ]
    },
    {
     "data": {
      "application/vnd.jupyter.widget-view+json": {
       "model_id": "1e1f9d7780014392a3787eeb371873e4",
       "version_major": 2,
       "version_minor": 0
      },
      "text/plain": [
       "All:   0%|          | 0/10 [00:00<?, ?it/s]"
      ]
     },
     "metadata": {},
     "output_type": "display_data"
    },
    {
     "data": {
      "application/vnd.jupyter.widget-view+json": {
       "model_id": "a834c09932fc4c12ba51e6a03bdf2b5b",
       "version_major": 2,
       "version_minor": 0
      },
      "text/plain": [
       "Subranges:   0%|          | 0/10 [00:00<?, ?it/s]"
      ]
     },
     "metadata": {},
     "output_type": "display_data"
    },
    {
     "data": {
      "application/vnd.jupyter.widget-view+json": {
       "model_id": "cb903c723a194f73a6266092c1610dad",
       "version_major": 2,
       "version_minor": 0
      },
      "text/plain": [
       "Sources:   0%|          | 0/10 [00:00<?, ?it/s]"
      ]
     },
     "metadata": {},
     "output_type": "display_data"
    },
    {
     "name": "stderr",
     "output_type": "stream",
     "text": [
      "Traceback (most recent call last):\n",
      "  File \"<string>\", line 1, in <module>\n",
      "  File \"/Users/will/miniforge3/lib/python3.10/multiprocessing/spawn.py\", line 112, in spawn_main\n",
      "Traceback (most recent call last):\n",
      "  File \"<string>\", line 1, in <module>\n",
      "  File \"/Users/will/miniforge3/lib/python3.10/multiprocessing/spawn.py\", line 116, in spawn_main\n",
      "    exitcode = _main(fd, parent_sentinel)\n",
      "  File \"/Users/will/miniforge3/lib/python3.10/multiprocessing/spawn.py\", line 126, in _main\n",
      "    from . import resource_tracker\n",
      "  File \"/Users/will/miniforge3/lib/python3.10/multiprocessing/resource_tracker.py\", line 38, in <module>\n",
      "    self = reduction.pickle.load(from_parent)\n",
      "  File \"/Users/will/miniforge3/lib/python3.10/concurrent/futures/process.py\", line 52, in <module>\n",
      "    import _posixshmem\n",
      "  File \"<frozen importlib._bootstrap>\", line 1027, in _find_and_load\n",
      "  File \"<frozen importlib._bootstrap>\", line 1002, in _find_and_load_unlocked\n",
      "  File \"<frozen importlib._bootstrap>\", line 945, in _find_spec\n",
      "  File \"<frozen importlib._bootstrap_external>\", line 1439, in find_spec\n",
      "  File \"<frozen importlib._bootstrap_external>\", line 1411, in _get_spec\n",
      "  File \"<frozen importlib._bootstrap_external>\", line 1576, in find_spec\n",
      "KeyboardInterrupt\n",
      "    import multiprocessing.connection\n",
      "  File \"<frozen importlib._bootstrap>\", line 1027, in _find_and_load\n",
      "  File \"<frozen importlib._bootstrap>\", line 1006, in _find_and_load_unlocked\n",
      "  File \"<frozen importlib._bootstrap>\", line 688, in _load_unlocked\n",
      "  File \"<frozen importlib._bootstrap_external>\", line 879, in exec_module\n",
      "  File \"<frozen importlib._bootstrap_external>\", line 1012, in get_code\n",
      "  File \"<frozen importlib._bootstrap_external>\", line 672, in _compile_bytecode\n",
      "KeyboardInterrupt\n"
     ]
    }
   ],
   "source": [
    "num_ranges = 10\n",
    "source_per_range = 10\n",
    "\n",
    "num_quanta = int(np.min([complexity[(complexity > 1-1/num_ranges*(i+1)) & (complexity < 1-1/num_ranges*i)].size \n",
    "    for i in range(0, int(num_ranges))])/source_per_range)\n",
    "\n",
    "num_quanta = 10\n",
    "print('Generating %i quanta holding %i ranges with %i sources per range for %i training sources...' % \n",
    "    (num_quanta, int(num_ranges), source_per_range, num_quanta*source_per_range*num_ranges))\n",
    "\n",
    "pb_0 = notebook.tqdm(range(num_quanta), total=num_quanta, desc='All', colour='red', position=0)\n",
    "pb_1 = notebook.tqdm(range(num_ranges), total=num_ranges, desc='Subranges', colour='blue', position=1)\n",
    "pb_2 = notebook.tqdm(range(source_per_range), total=source_per_range, desc='Sources', colour='green', position=2)\n",
    "for i in range(num_quanta):\n",
    "    sources = []\n",
    "    for j in range(num_ranges):\n",
    "        condition = (complexity > 1-(1/num_ranges)*(j+1)) & (complexity < 1-(1/num_ranges)*j) & (initialized == 0)\n",
    "        indices = np.random.permutation(np.arange(0, complexity[condition].size))\n",
    "        temp = initialized[condition]\n",
    "        for k in range(source_per_range):\n",
    "            while True: \n",
    "                try: \n",
    "                    sources.append(MultiWVSource(ra[condition][indices[k]], dec[condition][indices[k]]))\n",
    "                    temp[indices[k]] = 1\n",
    "                    time.sleep(0.1)\n",
    "                    break\n",
    "                except:\n",
    "                    time.sleep(1)\n",
    "                    continue\n",
    "            pb_2.update()\n",
    "        pb_2.refresh(); pb_2.reset()\n",
    "        initialized[condition] = temp\n",
    "        pb_1.update()\n",
    "    with open('unlabeled_data/sources_{}.obj'.format(i), 'wb') as f:\n",
    "        pickle.dump(sources, f)\n",
    "    pb_1.refresh(); pb_1.reset()\n",
    "    pb_0.update()\n",
    "pb_0.refresh()\n",
    "print('Done!')"
   ]
  },
  {
   "cell_type": "code",
   "execution_count": null,
   "metadata": {},
   "outputs": [],
   "source": []
  }
 ],
 "metadata": {
  "kernelspec": {
   "display_name": "Python 3.10.2 ('base')",
   "language": "python",
   "name": "python3"
  },
  "language_info": {
   "codemirror_mode": {
    "name": "ipython",
    "version": 3
   },
   "file_extension": ".py",
   "mimetype": "text/x-python",
   "name": "python",
   "nbconvert_exporter": "python",
   "pygments_lexer": "ipython3",
   "version": "3.10.6"
  },
  "orig_nbformat": 4,
  "vscode": {
   "interpreter": {
    "hash": "5cbe4671836038beb9fe799f77b559b51db17203b1eb4ddb0c8c4883751c931a"
   }
  }
 },
 "nbformat": 4,
 "nbformat_minor": 2
}
