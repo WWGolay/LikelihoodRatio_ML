{
 "cells": [
  {
   "cell_type": "markdown",
   "metadata": {},
   "source": [
    "# Training Sub-Image"
   ]
  },
  {
   "cell_type": "code",
   "execution_count": null,
   "metadata": {},
   "outputs": [],
   "source": [
    "import numpy as np\n",
    "import matplotlib.pyplot as plt\n",
    "import pickle\n",
    "\n",
    "%matplotlib widget"
   ]
  },
  {
   "cell_type": "markdown",
   "metadata": {},
   "source": [
    "## Import next quantum"
   ]
  },
  {
   "cell_type": "code",
   "execution_count": null,
   "metadata": {},
   "outputs": [],
   "source": [
    "with open('unlabeled_data/sources_0.obj', 'rb') as f:\n",
    "    sources = pickle.load(f)"
   ]
  },
  {
   "cell_type": "markdown",
   "metadata": {},
   "source": [
    "## Sub-image in widget"
   ]
  },
  {
   "cell_type": "code",
   "execution_count": null,
   "metadata": {},
   "outputs": [],
   "source": [
    "plt.close()\n",
    "fig, ax = plt.subplots(len(sources), 3, figsize=(10, len(sources)*4))\n",
    "ax[0][0].set_title('VLASS')\n",
    "ax[0][1].set_title('VLASS + WISE')\n",
    "ax[0][2].set_title('WISE')\n",
    "\n",
    "for i in range(len(sources)):\n",
    "    ax[i][0].imshow(sources[i].images[0].data, origin='lower', cmap='jet')\n",
    "    # ax[i][0].set_xlim(0, 128); ax[i][0].set_ylim(0, 128)\n",
    "\n",
    "    ax[i][1].imshow(sources[i].images[1].data, origin='lower', cmap='cividis')\n",
    "    ax[i][1].imshow(sources[i].images[0].data, origin='lower', cmap='jet', alpha=0.4)\n",
    "    # ax[i][1].set_xlim(0, 128); ax[i][1].set_ylim(0, 128)\n",
    "\n",
    "    ax[i][2].imshow(sources[i].images[1].data, origin='lower', cmap='cividis')\n",
    "    # ax[i][2].set_xlim(0, 128); ax[i][2].set_ylim(0, 128)\n",
    "\n",
    "plt.show()"
   ]
  },
  {
   "cell_type": "markdown",
   "metadata": {},
   "source": [
    "## Save sub-image bounds to fits header and training data file"
   ]
  },
  {
   "cell_type": "code",
   "execution_count": null,
   "metadata": {},
   "outputs": [],
   "source": [
    "for source in sources:\n",
    "    source.setAllCoords(int(ax[i][1].get_xlim()[0]), int(ax[i][1].get_xlim()[1]), \n",
    "        int(ax[i][1].get_ylim()[0]), int(ax[i][1].get_ylim()[1]))\n",
    "\n",
    "'''for i in range(next_im, next_im+10):\n",
    "    x_0[i] = int(ax[i][1].get_xlim()[0]); x_1[i] = int(ax[i][1].get_xlim()[1])\n",
    "    y_0[i] = int(ax[i][1].get_ylim()[0]); y_1[i] = int(ax[i][1].get_ylim()[1])\n",
    "\n",
    "    vlass[i].header.set('x_0', x_0[i], 'left bound of cutout')\n",
    "    vlass[i].header.set('x_1', x_1[i], 'right bound of cutout')\n",
    "    vlass[i].header.set('y_0', y_0[i], 'lower bound of cutout')\n",
    "    vlass[i].header.set('y_1', y_1[i], 'upper bound of cutout')\n",
    "\n",
    "    wise[i].header.set('x_0', x_0[i], 'left bound of cutout')\n",
    "    wise[i].header.set('x_1', x_1[i], 'right bound of cutout')\n",
    "    wise[i].header.set('y_0', y_0[i], 'lower bound of cutout')\n",
    "    wise[i].header.set('y_1', y_1[i], 'upper bound of cutout')\n",
    "\n",
    "    vlass[i].writeto('VLASS_training/VLASS_{}.fits'.format(int(im_name[i])), overwrite=True)\n",
    "    wise[i].writeto('WISE_training/WISE_{}.fits'.format(int(im_name[i])), overwrite=True)\n",
    "\n",
    "np.savetxt('training_data.txt', np.array([im_name, x_0, x_1, y_0, y_1]).T, header='im_name x_0 x_1 y_0 y_1', fmt='%i')'''\n",
    "\n",
    "with open('labeled_data/sources_0.obj', 'wb') as f:\n",
    "        pickle.dump(sources, f)"
   ]
  },
  {
   "cell_type": "code",
   "execution_count": null,
   "metadata": {},
   "outputs": [],
   "source": []
  }
 ],
 "metadata": {
  "kernelspec": {
   "display_name": "Python 3.10.2 ('base')",
   "language": "python",
   "name": "python3"
  },
  "language_info": {
   "codemirror_mode": {
    "name": "ipython",
    "version": 3
   },
   "file_extension": ".py",
   "mimetype": "text/x-python",
   "name": "python",
   "nbconvert_exporter": "python",
   "pygments_lexer": "ipython3",
   "version": "3.10.6"
  },
  "orig_nbformat": 4,
  "vscode": {
   "interpreter": {
    "hash": "5cbe4671836038beb9fe799f77b559b51db17203b1eb4ddb0c8c4883751c931a"
   }
  }
 },
 "nbformat": 4,
 "nbformat_minor": 2
}
