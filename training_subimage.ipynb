{
 "cells": [
  {
   "cell_type": "markdown",
   "metadata": {},
   "source": [
    "# Training Sub-Image"
   ]
  },
  {
   "cell_type": "code",
   "execution_count": null,
   "metadata": {},
   "outputs": [],
   "source": [
    "import numpy as np\n",
    "import matplotlib as mpl\n",
    "import matplotlib.pyplot as plt\n",
    "from matplotlib.widgets import Button\n",
    "import pickle\n",
    "import matplotlib.patches as patches\n",
    "\n",
    "import warnings\n",
    "warnings.filterwarnings('ignore')\n",
    "\n",
    "%matplotlib widget"
   ]
  },
  {
   "cell_type": "markdown",
   "metadata": {},
   "source": [
    "## Import next quantum"
   ]
  },
  {
   "cell_type": "code",
   "execution_count": null,
   "metadata": {},
   "outputs": [],
   "source": [
    "filename = 'sources_0.obj'\n",
    "\n",
    "with open('unlabeled_data/'+filename, 'rb') as f:\n",
    "    sources = pickle.load(f)"
   ]
  },
  {
   "cell_type": "markdown",
   "metadata": {},
   "source": [
    "## Sub-image batch widget"
   ]
  },
  {
   "cell_type": "code",
   "execution_count": null,
   "metadata": {},
   "outputs": [],
   "source": [
    "plt.close()\n",
    "\n",
    "sourceLength = len(sources)\n",
    "nSources = 2\n",
    "\n",
    "fig, ax = plt.subplots(nSources, 3, figsize=(10, nSources*4))\n",
    "ax[0][0].set_title('VLASS')\n",
    "ax[0][1].set_title('VLASS + WISE')\n",
    "ax[0][2].set_title('WISE')\n",
    "\n",
    "class Index:\n",
    "    ind = 0\n",
    "\n",
    "    def next(self, event):\n",
    "        for i in range(nSources):\n",
    "            sources[i+self.ind].setAllCoords(int(ax[i][1].get_xlim()[0]), int(ax[i][1].get_xlim()[1]), \n",
    "                int(ax[i][1].get_ylim()[0]), int(ax[i][1].get_ylim()[1]))\n",
    "\n",
    "        self.ind += nSources\n",
    "        i = self.ind % sourceLength\n",
    "        self.showFigures()\n",
    "        plt.draw()\n",
    "\n",
    "    def prev(self, event):\n",
    "        self.ind -= nSources\n",
    "        i = self.ind % sourceLength\n",
    "        self.showFigures()\n",
    "        plt.draw()\n",
    "\n",
    "    def showFigures(self):\n",
    "        for i in range(nSources):\n",
    "            vlass_im = (sources[i+self.ind].images[0].data - np.min(sources[i+self.ind].images[0].data)) # Set min to 0\n",
    "            vlass_im /= np.max(vlass_im) # Normalize to 0-1 (don't do for real model)\n",
    "\n",
    "            wise_im = np.log10(sources[i+self.ind].images[1].data - np.min(sources[i+self.ind].images[1].data)) # Set min to 0 and log10\n",
    "            wise_im = np.clip(wise_im, np.median(wise_im), np.inf) # Clip to median\n",
    "            wise_im -= np.min(wise_im) # Set min to 0\n",
    "            wise_im /= np.max(wise_im) # Normalize (don't do for real model)\n",
    "\n",
    "            ax[i][0].imshow(vlass_im, origin='lower', cmap='jet', vmin=0, vmax=1)\n",
    "            ax[i][0].set_xlim(0, 256); ax[i][0].set_ylim(0, 256)\n",
    "\n",
    "            ax[i][1].title.set_text('Source '+str(i+self.ind))\n",
    "            ax[i][1].imshow(wise_im, origin='lower', cmap='cividis', vmin=0, vmax=1)\n",
    "            ax[i][1].imshow(vlass_im, origin='lower', cmap='jet', alpha=0.15, vmin=0, vmax=1)\n",
    "            ax[i][1].set_xlim(0, 256); ax[i][1].set_ylim(0, 256)\n",
    "\n",
    "            ax[i][2].imshow(wise_im, origin='lower', cmap='cividis', vmin=0, vmax=1)\n",
    "            ax[i][2].set_xlim(0, 256); ax[i][2].set_ylim(0, 256)\n",
    "\n",
    "callback = Index()\n",
    "callback.showFigures()\n",
    "axprev = fig.add_axes([0.7, 0.05, 0.1, 0.035])\n",
    "axnext = fig.add_axes([0.81, 0.05, 0.1, 0.035])\n",
    "bnext = Button(axnext, 'Next')\n",
    "bnext.on_clicked(callback.next)\n",
    "bprev = Button(axprev, 'Previous')\n",
    "bprev.on_clicked(callback.prev)\n",
    "\n",
    "plt.show()"
   ]
  },
  {
   "cell_type": "markdown",
   "metadata": {},
   "source": [
    "## Save to training data file"
   ]
  },
  {
   "cell_type": "code",
   "execution_count": null,
   "metadata": {},
   "outputs": [],
   "source": [
    "with open('labeled_data/'+filename, 'wb') as f:\n",
    "        pickle.dump(sources, f)"
   ]
  },
  {
   "cell_type": "markdown",
   "metadata": {},
   "source": [
    "## Test coordinate saving"
   ]
  },
  {
   "cell_type": "code",
   "execution_count": null,
   "metadata": {},
   "outputs": [],
   "source": [
    "with open('labeled_data/sources_0.obj', 'rb') as f:\n",
    "    sources = pickle.load(f)\n",
    "\n",
    "plt.close()\n",
    "plt.imshow(sources[0].images[0].data, origin='lower', cmap='jet')\n",
    "plt.xlim(sources[0].images[0].x0, sources[0].images[0].x1)\n",
    "plt.ylim(sources[0].images[0].y0, sources[0].images[0].y1)\n",
    "plt.show()"
   ]
  },
  {
   "cell_type": "code",
   "execution_count": null,
   "metadata": {},
   "outputs": [],
   "source": [
    "plt.close()\n",
    "\n",
    "sourceLength = len(sources)\n",
    "nSources = 3\n",
    "\n",
    "fig, ax = plt.subplots(nSources, 3, figsize=(10, 12))\n",
    "ax[0][0].set_title('VLASS')\n",
    "ax[0][1].set_title('VLASS + WISE')\n",
    "ax[0][2].set_title('WISE')\n",
    "\n",
    "class Index:\n",
    "    ind = 0\n",
    "\n",
    "    def next(self, event):\n",
    "        for i in range(nSources):\n",
    "            sources[i+self.ind].setAllCoords(int(ax[i][1].get_xlim()[0]), int(ax[i][1].get_xlim()[1]), \n",
    "                int(ax[i][1].get_ylim()[0]), int(ax[i][1].get_ylim()[1]))\n",
    "\n",
    "        self.ind += nSources\n",
    "        i = self.ind % sourceLength\n",
    "        self.showFigures()\n",
    "        plt.draw()\n",
    "\n",
    "    def prev(self, event):\n",
    "        self.ind -= nSources\n",
    "        i = self.ind % sourceLength\n",
    "        self.showFigures()\n",
    "        plt.draw()\n",
    "\n",
    "    def showFigures(self):\n",
    "        for i in range(nSources):\n",
    "            (x0,x1) = (sources[i+self.ind].images[0].x0, sources[i+self.ind].images[0].x1)\n",
    "            (y0,y1) = (sources[i+self.ind].images[0].y0, sources[i+self.ind].images[0].y1)\n",
    "            ax[i][0].imshow(sources[i+self.ind].images[0].data, origin='lower', cmap='jet')\n",
    "            ax[i][0].set_xlim(0, 256); ax[i][0].set_ylim(0, 256)\n",
    "\n",
    "            ax[i][1].title.set_text('Source '+str(i+self.ind))\n",
    "            ax[i][1].imshow(sources[i+self.ind].images[1].data, origin='lower', cmap='cividis')\n",
    "            ax[i][1].imshow(sources[i+self.ind].images[0].data, origin='lower', cmap='jet', alpha=0.2)\n",
    "            ax[i][1].set_xlim(x0, x1)\n",
    "            ax[i][1].set_ylim(y0, y1)\n",
    "\n",
    "            ax[i][2].cla()\n",
    "            ax[i][2].imshow(sources[i+self.ind].images[1].data, origin='lower', cmap='cividis')\n",
    "            ax[i][2].set_xlim(0, 256); ax[i][2].set_ylim(0, 256)\n",
    "            \n",
    "            # Create a Rectangle patch\n",
    "            rect = patches.Rectangle((x0, y0), x1-x0, y1-y0, linewidth=1, edgecolor='r', facecolor='none')\n",
    "\n",
    "            # Add the patch to the final image\n",
    "            ax[i][2].add_patch(rect)\n",
    "\n",
    "callback = Index()\n",
    "callback.showFigures()\n",
    "axprev = fig.add_axes([0.7, 0.05, 0.1, 0.035])\n",
    "axnext = fig.add_axes([0.81, 0.05, 0.1, 0.035])\n",
    "bnext = Button(axnext, 'Next')\n",
    "bnext.on_clicked(callback.next)\n",
    "bprev = Button(axprev, 'Previous')\n",
    "bprev.on_clicked(callback.prev)\n",
    "\n",
    "plt.show()"
   ]
  },
  {
   "cell_type": "code",
   "execution_count": null,
   "metadata": {},
   "outputs": [],
   "source": [
    "print(sources[0].images[0].x0, sources[0].images[0].x1)"
   ]
  }
 ],
 "metadata": {
  "kernelspec": {
   "display_name": "Python 3.10.6 ('base')",
   "language": "python",
   "name": "python3"
  },
  "language_info": {
   "codemirror_mode": {
    "name": "ipython",
    "version": 3
   },
   "file_extension": ".py",
   "mimetype": "text/x-python",
   "name": "python",
   "nbconvert_exporter": "python",
   "pygments_lexer": "ipython3",
   "version": "3.10.6"
  },
  "orig_nbformat": 4,
  "vscode": {
   "interpreter": {
    "hash": "5cbe4671836038beb9fe799f77b559b51db17203b1eb4ddb0c8c4883751c931a"
   }
  }
 },
 "nbformat": 4,
 "nbformat_minor": 2
}
